{
 "cells": [
  {
   "cell_type": "code",
   "execution_count": null,
   "id": "e31c20cf",
   "metadata": {},
   "outputs": [],
   "source": [
    "step 1: read the data\n",
    "step 2: preprocessor or EDA of the data\n",
    "        * Tabular data: ML models\n",
    "        * Images: DEEP learning\n",
    "        * TExt sentences: NLP\n",
    "step 3: MOdel development\n",
    "        *ML models\n",
    "        *DL models\n",
    "        *NLP models\n",
    "        *gen AI models\n",
    "step 4: Evaluation or performance\n",
    "step 5: Hyper parameter tuning\n",
    "step 6: MOdel deployment\n",
    "    "
   ]
  },
  {
   "cell_type": "code",
   "execution_count": null,
   "id": "e092608c",
   "metadata": {},
   "outputs": [],
   "source": [
    "MAchine learning is divided into two parts:\n",
    "    1.Supervised learning\n",
    "        - If Target column is numerical : REgression\n",
    "            - 1.LInear Regression\n",
    "            - 2.Lasso Regression(regularization)\n",
    "            - 3.Ridge regression(regularization)\n",
    "        - If Target column is categorical:classification\n",
    "            - 1.Logistic REgression\n",
    "            - 2.Decision Tree\n",
    "            - 3.Naive Bayes\n",
    "            - 4.K-Nearest neighbors\n",
    "            - 5.Ensemble methods: Bagging and Boosting\n",
    "            - 6.support Vector Machines\n",
    "    2.UNsupervised learning: There is no Target column\n",
    "        - 1.K- means\n",
    "        - 2.Heirarchical cluster"
   ]
  },
  {
   "cell_type": "code",
   "execution_count": null,
   "id": "ff5c2c32",
   "metadata": {},
   "outputs": [],
   "source": [
    "Linear REgression\n"
   ]
  }
 ],
 "metadata": {
  "kernelspec": {
   "display_name": "Python 3 (ipykernel)",
   "language": "python",
   "name": "python3"
  },
  "language_info": {
   "codemirror_mode": {
    "name": "ipython",
    "version": 3
   },
   "file_extension": ".py",
   "mimetype": "text/x-python",
   "name": "python",
   "nbconvert_exporter": "python",
   "pygments_lexer": "ipython3",
   "version": "3.11.5"
  }
 },
 "nbformat": 4,
 "nbformat_minor": 5
}
