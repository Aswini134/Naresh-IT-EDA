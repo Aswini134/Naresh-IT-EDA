{
 "cells": [
  {
   "cell_type": "markdown",
   "id": "5ee90f27",
   "metadata": {},
   "source": [
    "# statistics part 1- EDA\n",
    "# statistics part 2:\n",
    "    - 1. sampling\n",
    "    - 2.central limit theorem\n",
    "    - 3.point Estimates\n",
    "    - 4. Interval Estimates\n",
    "    - 5. confidence intervals\n",
    "    - 6. Hypothesis Testing\n",
    "    - 7.Z-table"
   ]
  },
  {
   "cell_type": "code",
   "execution_count": null,
   "id": "69ec6ff1",
   "metadata": {},
   "outputs": [],
   "source": [
    "# Inferential statistics\n",
    " will work on sample, will find on population\n",
    "will find mean on sample, will find mean on population\n",
    " will find median on sample, will find median pop\n",
    "    will find mode on sample, will find mode pop\n",
    "    what ever we are finding mean.mode,median,std,var on sample: statistics\n",
    "        what ever we are finding (mean.mode,median,std,var) on population: parameter\n",
    "        "
   ]
  },
  {
   "cell_type": "markdown",
   "id": "892e474a",
   "metadata": {},
   "source": [
    "# Parameter estimation or Inferential statistics"
   ]
  },
  {
   "cell_type": "markdown",
   "id": "8b2f1d57",
   "metadata": {},
   "source": [
    "- 1.assume that we have a data of 1000 observations\n",
    "- 2. if this data does not follow normal distribution\n",
    "- 3. we are dividing this data into 20 samples\n",
    "- 4. each sample has 50 observations\n",
    "- 5. s_1,s_2,.......,s_20\n",
    "- 6. we are calculating mean of each sample :s1,s2,s3....s20\n",
    "- 7. if you draw the distribution using all the 20 samples\n",
    "- 8. each sample mean is a single value\n",
    "- 9. like that we have 20 values\n",
    "- 10. now we are interested to draw a distribution on these 20 values\n",
    "- 11. the distribution will follow normality\n",
    "- 12. It is called Central limit theorem"
   ]
  },
  {
   "cell_type": "code",
   "execution_count": null,
   "id": "e5220941",
   "metadata": {},
   "outputs": [],
   "source": [
    "- if data does not follow normality divide data into 20 samples\n",
    "- calculate 20 sample means, the distribution of these follow normality"
   ]
  },
  {
   "cell_type": "code",
   "execution_count": null,
   "id": "a741be09",
   "metadata": {},
   "outputs": [],
   "source": [
    "- statistics part 1: dealing with raw observations, we have mean,std,Z-score,mean=(x1+x2+x3+-----+xn)/n\n",
    "-    statistics part 2: sample means  as observations, mean,std,Z-score,mean=(s1+s2+s3+----sn)/n"
   ]
  },
  {
   "cell_type": "code",
   "execution_count": null,
   "id": "0342690d",
   "metadata": {},
   "outputs": [],
   "source": [
    "# raw observations:1,10,20,35,40,45,55,60,70,80,90,100"
   ]
  },
  {
   "cell_type": "code",
   "execution_count": 2,
   "id": "86456a3d",
   "metadata": {},
   "outputs": [],
   "source": [
    "import pandas as pd                  # dataframe operations\n",
    "import numpy as np                   # math operations\n",
    "import matplotlib.pyplot as plt      # diagrams/plots\n",
    "import seaborn as sns "
   ]
  },
  {
   "cell_type": "code",
   "execution_count": null,
   "id": "a94ba402",
   "metadata": {},
   "outputs": [],
   "source": [
    "from sklearn.processing import l1=[1,10,20,35,40,45,55,60,70,80,90,100]\n",
    "mean(l1)"
   ]
  },
  {
   "cell_type": "code",
   "execution_count": 3,
   "id": "304c2a66",
   "metadata": {},
   "outputs": [
    {
     "data": {
      "text/html": [
       "<div>\n",
       "<style scoped>\n",
       "    .dataframe tbody tr th:only-of-type {\n",
       "        vertical-align: middle;\n",
       "    }\n",
       "\n",
       "    .dataframe tbody tr th {\n",
       "        vertical-align: top;\n",
       "    }\n",
       "\n",
       "    .dataframe thead th {\n",
       "        text-align: right;\n",
       "    }\n",
       "</style>\n",
       "<table border=\"1\" class=\"dataframe\">\n",
       "  <thead>\n",
       "    <tr style=\"text-align: right;\">\n",
       "      <th></th>\n",
       "      <th>Raw</th>\n",
       "    </tr>\n",
       "  </thead>\n",
       "  <tbody>\n",
       "    <tr>\n",
       "      <th>0</th>\n",
       "      <td>1</td>\n",
       "    </tr>\n",
       "    <tr>\n",
       "      <th>1</th>\n",
       "      <td>10</td>\n",
       "    </tr>\n",
       "    <tr>\n",
       "      <th>2</th>\n",
       "      <td>20</td>\n",
       "    </tr>\n",
       "    <tr>\n",
       "      <th>3</th>\n",
       "      <td>35</td>\n",
       "    </tr>\n",
       "    <tr>\n",
       "      <th>4</th>\n",
       "      <td>40</td>\n",
       "    </tr>\n",
       "    <tr>\n",
       "      <th>5</th>\n",
       "      <td>45</td>\n",
       "    </tr>\n",
       "    <tr>\n",
       "      <th>6</th>\n",
       "      <td>55</td>\n",
       "    </tr>\n",
       "    <tr>\n",
       "      <th>7</th>\n",
       "      <td>60</td>\n",
       "    </tr>\n",
       "    <tr>\n",
       "      <th>8</th>\n",
       "      <td>70</td>\n",
       "    </tr>\n",
       "    <tr>\n",
       "      <th>9</th>\n",
       "      <td>80</td>\n",
       "    </tr>\n",
       "    <tr>\n",
       "      <th>10</th>\n",
       "      <td>90</td>\n",
       "    </tr>\n",
       "    <tr>\n",
       "      <th>11</th>\n",
       "      <td>100</td>\n",
       "    </tr>\n",
       "  </tbody>\n",
       "</table>\n",
       "</div>"
      ],
      "text/plain": [
       "    Raw\n",
       "0     1\n",
       "1    10\n",
       "2    20\n",
       "3    35\n",
       "4    40\n",
       "5    45\n",
       "6    55\n",
       "7    60\n",
       "8    70\n",
       "9    80\n",
       "10   90\n",
       "11  100"
      ]
     },
     "execution_count": 3,
     "metadata": {},
     "output_type": "execute_result"
    }
   ],
   "source": [
    "dict1={'Raw':[1,10,20,35,40,45,55,60,70,80,90,100]}\n",
    "data1=pd.DataFrame(dict1)\n",
    "data1"
   ]
  },
  {
   "cell_type": "code",
   "execution_count": 5,
   "id": "75ca85c3",
   "metadata": {},
   "outputs": [
    {
     "data": {
      "text/plain": [
       "50.5"
      ]
     },
     "execution_count": 5,
     "metadata": {},
     "output_type": "execute_result"
    }
   ],
   "source": [
    "Raw_mean=data1['Raw'].mean()\n",
    "Raw_mean"
   ]
  },
  {
   "cell_type": "code",
   "execution_count": null,
   "id": "00be4a4d",
   "metadata": {},
   "outputs": [],
   "source": [
    "# calculate mean of sample for above data\n",
    "s1=[1,0,20,35]"
   ]
  },
  {
   "cell_type": "markdown",
   "id": "7cff75ac",
   "metadata": {},
   "source": [
    "- Mean of sample means = mean of observations = meu\n",
    "- mean : both are same in part 1& 2"
   ]
  },
  {
   "cell_type": "code",
   "execution_count": null,
   "id": "1bcc14a2",
   "metadata": {},
   "outputs": [],
   "source": [
    "- when you talk only raw observations : standard deviation : sigma\n",
    "- when you talk about sample means observations : standard error : sigma/ root of n"
   ]
  },
  {
   "cell_type": "code",
   "execution_count": null,
   "id": "213fbde5",
   "metadata": {},
   "outputs": [],
   "source": [
    "standard deviation: how much a observations is deviated from mean\n",
    "    "
   ]
  }
 ],
 "metadata": {
  "kernelspec": {
   "display_name": "Python 3 (ipykernel)",
   "language": "python",
   "name": "python3"
  },
  "language_info": {
   "codemirror_mode": {
    "name": "ipython",
    "version": 3
   },
   "file_extension": ".py",
   "mimetype": "text/x-python",
   "name": "python",
   "nbconvert_exporter": "python",
   "pygments_lexer": "ipython3",
   "version": "3.11.5"
  }
 },
 "nbformat": 4,
 "nbformat_minor": 5
}
