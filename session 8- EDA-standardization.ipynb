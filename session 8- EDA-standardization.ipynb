{
 "cells": [
  {
   "cell_type": "code",
   "execution_count": 2,
   "id": "9a65eb14",
   "metadata": {},
   "outputs": [
    {
     "data": {
      "text/html": [
       "<div>\n",
       "<style scoped>\n",
       "    .dataframe tbody tr th:only-of-type {\n",
       "        vertical-align: middle;\n",
       "    }\n",
       "\n",
       "    .dataframe tbody tr th {\n",
       "        vertical-align: top;\n",
       "    }\n",
       "\n",
       "    .dataframe thead th {\n",
       "        text-align: right;\n",
       "    }\n",
       "</style>\n",
       "<table border=\"1\" class=\"dataframe\">\n",
       "  <thead>\n",
       "    <tr style=\"text-align: right;\">\n",
       "      <th></th>\n",
       "      <th>case_id</th>\n",
       "      <th>continent</th>\n",
       "      <th>education_of_employee</th>\n",
       "      <th>has_job_experience</th>\n",
       "      <th>requires_job_training</th>\n",
       "      <th>no_of_employees</th>\n",
       "      <th>yr_of_estab</th>\n",
       "      <th>region_of_employment</th>\n",
       "      <th>prevailing_wage</th>\n",
       "      <th>unit_of_wage</th>\n",
       "      <th>full_time_position</th>\n",
       "      <th>case_status</th>\n",
       "    </tr>\n",
       "  </thead>\n",
       "  <tbody>\n",
       "    <tr>\n",
       "      <th>0</th>\n",
       "      <td>EZYV01</td>\n",
       "      <td>Asia</td>\n",
       "      <td>High School</td>\n",
       "      <td>N</td>\n",
       "      <td>N</td>\n",
       "      <td>14513</td>\n",
       "      <td>2007</td>\n",
       "      <td>West</td>\n",
       "      <td>592.2029</td>\n",
       "      <td>Hour</td>\n",
       "      <td>Y</td>\n",
       "      <td>Denied</td>\n",
       "    </tr>\n",
       "    <tr>\n",
       "      <th>1</th>\n",
       "      <td>EZYV02</td>\n",
       "      <td>Asia</td>\n",
       "      <td>Master's</td>\n",
       "      <td>Y</td>\n",
       "      <td>N</td>\n",
       "      <td>2412</td>\n",
       "      <td>2002</td>\n",
       "      <td>Northeast</td>\n",
       "      <td>83425.6500</td>\n",
       "      <td>Year</td>\n",
       "      <td>Y</td>\n",
       "      <td>Certified</td>\n",
       "    </tr>\n",
       "    <tr>\n",
       "      <th>2</th>\n",
       "      <td>EZYV03</td>\n",
       "      <td>Asia</td>\n",
       "      <td>Bachelor's</td>\n",
       "      <td>N</td>\n",
       "      <td>Y</td>\n",
       "      <td>44444</td>\n",
       "      <td>2008</td>\n",
       "      <td>West</td>\n",
       "      <td>122996.8600</td>\n",
       "      <td>Year</td>\n",
       "      <td>Y</td>\n",
       "      <td>Denied</td>\n",
       "    </tr>\n",
       "  </tbody>\n",
       "</table>\n",
       "</div>"
      ],
      "text/plain": [
       "  case_id continent education_of_employee has_job_experience  \\\n",
       "0  EZYV01      Asia           High School                  N   \n",
       "1  EZYV02      Asia              Master's                  Y   \n",
       "2  EZYV03      Asia            Bachelor's                  N   \n",
       "\n",
       "  requires_job_training  no_of_employees  yr_of_estab region_of_employment  \\\n",
       "0                     N            14513         2007                 West   \n",
       "1                     N             2412         2002            Northeast   \n",
       "2                     Y            44444         2008                 West   \n",
       "\n",
       "   prevailing_wage unit_of_wage full_time_position case_status  \n",
       "0         592.2029         Hour                  Y      Denied  \n",
       "1       83425.6500         Year                  Y   Certified  \n",
       "2      122996.8600         Year                  Y      Denied  "
      ]
     },
     "execution_count": 2,
     "metadata": {},
     "output_type": "execute_result"
    }
   ],
   "source": [
    "import pandas as pd                  # dataframe operations\n",
    "import numpy as np                   # math operations\n",
    "import matplotlib.pyplot as plt      # diagrams/plots\n",
    "import seaborn as sns                # diagrams / plots\n",
    "path=r\"C:\\Users\\vampa\\OneDrive\\Documents\\nareshIT-DATASCIENCE\\EDA\\Visadataset.csv\"\n",
    "visa_df=pd.read_csv(path)\n",
    "visa_df.head(3)"
   ]
  },
  {
   "cell_type": "markdown",
   "id": "3da24f47",
   "metadata": {},
   "source": [
    "** standardization**\n",
    "- standarization means scaling the data into one scale\n",
    "- we have different  columns has different units so that the value will vary\n",
    "- one column has very huge values\n",
    "- another column has very less values\n",
    "- so it is important to scale all type of units under one scale\n",
    "- we have  2 procedures\n",
    "- standardization \n",
    "    - z-score:\n",
    "        - thevalues ranges from -3 to 3\n",
    "        - z=(x-meu)/sigma\n",
    "- Normalization\n",
    "    - Min Max scalar\n",
    "    - x-xmin/xmax-xmin\n",
    "    -values ranges from 0 to 1      "
   ]
  },
  {
   "cell_type": "code",
   "execution_count": null,
   "id": "b22902fe",
   "metadata": {},
   "outputs": [],
   "source": [
    "# take the prevailing wage column\n",
    "# z-score=x- meu/sigma\n",
    "# step 2- calculate mean of prevailing wage\n",
    "#- step 3: calculate std of prewage\n",
    " # step 4: nr: pwage-mean\n",
    "#step 5: pwage_zscore=nr/dr"
   ]
  },
  {
   "cell_type": "code",
   "execution_count": 2,
   "id": "ad40fb61",
   "metadata": {},
   "outputs": [
    {
     "data": {
      "text/plain": [
       "0           592.2029\n",
       "1         83425.6500\n",
       "2        122996.8600\n",
       "3         83434.0300\n",
       "4        149907.3900\n",
       "            ...     \n",
       "25475     77092.5700\n",
       "25476    279174.7900\n",
       "25477    146298.8500\n",
       "25478     86154.7700\n",
       "25479     70876.9100\n",
       "Name: prevailing_wage, Length: 25480, dtype: float64"
      ]
     },
     "execution_count": 2,
     "metadata": {},
     "output_type": "execute_result"
    }
   ],
   "source": [
    "visa_df['prevailing_wage']"
   ]
  },
  {
   "cell_type": "code",
   "execution_count": 9,
   "id": "c0916ac2",
   "metadata": {},
   "outputs": [],
   "source": [
    "pwage=visa_df['prevailing_wage']\n",
    "pwage_mean=visa_df['prevailing_wage'].mean()\n",
    "pwage_std=visa_df['prevailing_wage'].std()\n",
    "nr=pwage-pwage_mean\n",
    "visa_df['prevailing_wage_z']=nr/pwage_std"
   ]
  },
  {
   "cell_type": "code",
   "execution_count": 10,
   "id": "722569a8",
   "metadata": {},
   "outputs": [
    {
     "data": {
      "text/html": [
       "<div>\n",
       "<style scoped>\n",
       "    .dataframe tbody tr th:only-of-type {\n",
       "        vertical-align: middle;\n",
       "    }\n",
       "\n",
       "    .dataframe tbody tr th {\n",
       "        vertical-align: top;\n",
       "    }\n",
       "\n",
       "    .dataframe thead th {\n",
       "        text-align: right;\n",
       "    }\n",
       "</style>\n",
       "<table border=\"1\" class=\"dataframe\">\n",
       "  <thead>\n",
       "    <tr style=\"text-align: right;\">\n",
       "      <th></th>\n",
       "      <th>prevailing_wage</th>\n",
       "      <th>prevailing_wage_z</th>\n",
       "    </tr>\n",
       "  </thead>\n",
       "  <tbody>\n",
       "    <tr>\n",
       "      <th>0</th>\n",
       "      <td>592.2029</td>\n",
       "      <td>-1.398510</td>\n",
       "    </tr>\n",
       "    <tr>\n",
       "      <th>1</th>\n",
       "      <td>83425.6500</td>\n",
       "      <td>0.169832</td>\n",
       "    </tr>\n",
       "    <tr>\n",
       "      <th>2</th>\n",
       "      <td>122996.8600</td>\n",
       "      <td>0.919060</td>\n",
       "    </tr>\n",
       "    <tr>\n",
       "      <th>3</th>\n",
       "      <td>83434.0300</td>\n",
       "      <td>0.169991</td>\n",
       "    </tr>\n",
       "    <tr>\n",
       "      <th>4</th>\n",
       "      <td>149907.3900</td>\n",
       "      <td>1.428576</td>\n",
       "    </tr>\n",
       "    <tr>\n",
       "      <th>...</th>\n",
       "      <td>...</td>\n",
       "      <td>...</td>\n",
       "    </tr>\n",
       "    <tr>\n",
       "      <th>25475</th>\n",
       "      <td>77092.5700</td>\n",
       "      <td>0.049923</td>\n",
       "    </tr>\n",
       "    <tr>\n",
       "      <th>25476</th>\n",
       "      <td>279174.7900</td>\n",
       "      <td>3.876083</td>\n",
       "    </tr>\n",
       "    <tr>\n",
       "      <th>25477</th>\n",
       "      <td>146298.8500</td>\n",
       "      <td>1.360253</td>\n",
       "    </tr>\n",
       "    <tr>\n",
       "      <th>25478</th>\n",
       "      <td>86154.7700</td>\n",
       "      <td>0.221504</td>\n",
       "    </tr>\n",
       "    <tr>\n",
       "      <th>25479</th>\n",
       "      <td>70876.9100</td>\n",
       "      <td>-0.067762</td>\n",
       "    </tr>\n",
       "  </tbody>\n",
       "</table>\n",
       "<p>25480 rows × 2 columns</p>\n",
       "</div>"
      ],
      "text/plain": [
       "       prevailing_wage  prevailing_wage_z\n",
       "0             592.2029          -1.398510\n",
       "1           83425.6500           0.169832\n",
       "2          122996.8600           0.919060\n",
       "3           83434.0300           0.169991\n",
       "4          149907.3900           1.428576\n",
       "...                ...                ...\n",
       "25475       77092.5700           0.049923\n",
       "25476      279174.7900           3.876083\n",
       "25477      146298.8500           1.360253\n",
       "25478       86154.7700           0.221504\n",
       "25479       70876.9100          -0.067762\n",
       "\n",
       "[25480 rows x 2 columns]"
      ]
     },
     "execution_count": 10,
     "metadata": {},
     "output_type": "execute_result"
    }
   ],
   "source": [
    "visa_df[['prevailing_wage','prevailing_wage_z']]"
   ]
  },
  {
   "cell_type": "code",
   "execution_count": 11,
   "id": "c5e54627",
   "metadata": {},
   "outputs": [
    {
     "data": {
      "text/plain": [
       "(319210.27, 4.634101837909902)"
      ]
     },
     "execution_count": 11,
     "metadata": {},
     "output_type": "execute_result"
    }
   ],
   "source": [
    "visa_df['prevailing_wage'].max(),visa_df['prevailing_wage_z'].max()\n",
    "#99.7% data between -3 to 3"
   ]
  },
  {
   "cell_type": "code",
   "execution_count": null,
   "id": "379187e5",
   "metadata": {},
   "outputs": [],
   "source": [
    "visa_df['prevailing_wage'].idxmax()\n",
    "# in the prevailing wage column the max value id is 21077"
   ]
  },
  {
   "cell_type": "code",
   "execution_count": 12,
   "id": "01fe8d6f",
   "metadata": {},
   "outputs": [
    {
     "data": {
      "text/plain": [
       "(2.1367, -1.4096818992891214)"
      ]
     },
     "execution_count": 12,
     "metadata": {},
     "output_type": "execute_result"
    }
   ],
   "source": [
    "visa_df['prevailing_wage'].min(),visa_df['prevailing_wage_z'].min()"
   ]
  },
  {
   "cell_type": "code",
   "execution_count": 13,
   "id": "8a0a3d98",
   "metadata": {},
   "outputs": [
    {
     "data": {
      "text/plain": [
       "20575"
      ]
     },
     "execution_count": 13,
     "metadata": {},
     "output_type": "execute_result"
    }
   ],
   "source": [
    "visa_df['prevailing_wage'].idxmin()"
   ]
  },
  {
   "cell_type": "code",
   "execution_count": 15,
   "id": "576fdefc",
   "metadata": {},
   "outputs": [
    {
     "data": {
      "text/html": [
       "<div>\n",
       "<style scoped>\n",
       "    .dataframe tbody tr th:only-of-type {\n",
       "        vertical-align: middle;\n",
       "    }\n",
       "\n",
       "    .dataframe tbody tr th {\n",
       "        vertical-align: top;\n",
       "    }\n",
       "\n",
       "    .dataframe thead th {\n",
       "        text-align: right;\n",
       "    }\n",
       "</style>\n",
       "<table border=\"1\" class=\"dataframe\">\n",
       "  <thead>\n",
       "    <tr style=\"text-align: right;\">\n",
       "      <th></th>\n",
       "      <th>case_id</th>\n",
       "      <th>continent</th>\n",
       "      <th>education_of_employee</th>\n",
       "      <th>has_job_experience</th>\n",
       "      <th>requires_job_training</th>\n",
       "      <th>no_of_employees</th>\n",
       "      <th>yr_of_estab</th>\n",
       "      <th>region_of_employment</th>\n",
       "      <th>prevailing_wage</th>\n",
       "      <th>unit_of_wage</th>\n",
       "      <th>full_time_position</th>\n",
       "      <th>case_status</th>\n",
       "      <th>prevailing_wage_z</th>\n",
       "    </tr>\n",
       "  </thead>\n",
       "  <tbody>\n",
       "    <tr>\n",
       "      <th>2107</th>\n",
       "      <td>EZYV2108</td>\n",
       "      <td>Asia</td>\n",
       "      <td>Bachelor's</td>\n",
       "      <td>N</td>\n",
       "      <td>Y</td>\n",
       "      <td>3037</td>\n",
       "      <td>2009</td>\n",
       "      <td>West</td>\n",
       "      <td>56741.4400</td>\n",
       "      <td>Year</td>\n",
       "      <td>Y</td>\n",
       "      <td>Denied</td>\n",
       "      <td>-0.335398</td>\n",
       "    </tr>\n",
       "    <tr>\n",
       "      <th>20575</th>\n",
       "      <td>EZYV20576</td>\n",
       "      <td>North America</td>\n",
       "      <td>Master's</td>\n",
       "      <td>N</td>\n",
       "      <td>N</td>\n",
       "      <td>1552</td>\n",
       "      <td>2004</td>\n",
       "      <td>Northeast</td>\n",
       "      <td>2.1367</td>\n",
       "      <td>Hour</td>\n",
       "      <td>Y</td>\n",
       "      <td>Certified</td>\n",
       "      <td>-1.409682</td>\n",
       "    </tr>\n",
       "  </tbody>\n",
       "</table>\n",
       "</div>"
      ],
      "text/plain": [
       "         case_id      continent education_of_employee has_job_experience  \\\n",
       "2107    EZYV2108           Asia            Bachelor's                  N   \n",
       "20575  EZYV20576  North America              Master's                  N   \n",
       "\n",
       "      requires_job_training  no_of_employees  yr_of_estab  \\\n",
       "2107                      Y             3037         2009   \n",
       "20575                     N             1552         2004   \n",
       "\n",
       "      region_of_employment  prevailing_wage unit_of_wage full_time_position  \\\n",
       "2107                  West       56741.4400         Year                  Y   \n",
       "20575            Northeast           2.1367         Hour                  Y   \n",
       "\n",
       "      case_status  prevailing_wage_z  \n",
       "2107       Denied          -0.335398  \n",
       "20575   Certified          -1.409682  "
      ]
     },
     "execution_count": 15,
     "metadata": {},
     "output_type": "execute_result"
    }
   ],
   "source": [
    "#21077 is max value id\n",
    "# 20575 is min value id\n",
    "# can you get only these two rows values\n",
    "visa_df.iloc[[2107,20575]]"
   ]
  },
  {
   "cell_type": "code",
   "execution_count": 18,
   "id": "9f35341f",
   "metadata": {},
   "outputs": [
    {
     "data": {
      "text/html": [
       "<div>\n",
       "<style scoped>\n",
       "    .dataframe tbody tr th:only-of-type {\n",
       "        vertical-align: middle;\n",
       "    }\n",
       "\n",
       "    .dataframe tbody tr th {\n",
       "        vertical-align: top;\n",
       "    }\n",
       "\n",
       "    .dataframe thead th {\n",
       "        text-align: right;\n",
       "    }\n",
       "</style>\n",
       "<table border=\"1\" class=\"dataframe\">\n",
       "  <thead>\n",
       "    <tr style=\"text-align: right;\">\n",
       "      <th></th>\n",
       "      <th>prevailing_wage</th>\n",
       "      <th>prevailing_wage_z</th>\n",
       "    </tr>\n",
       "  </thead>\n",
       "  <tbody>\n",
       "    <tr>\n",
       "      <th>2107</th>\n",
       "      <td>56741.4400</td>\n",
       "      <td>-0.335398</td>\n",
       "    </tr>\n",
       "    <tr>\n",
       "      <th>20575</th>\n",
       "      <td>2.1367</td>\n",
       "      <td>-1.409682</td>\n",
       "    </tr>\n",
       "  </tbody>\n",
       "</table>\n",
       "</div>"
      ],
      "text/plain": [
       "       prevailing_wage  prevailing_wage_z\n",
       "2107        56741.4400          -0.335398\n",
       "20575           2.1367          -1.409682"
      ]
     },
     "execution_count": 18,
     "metadata": {},
     "output_type": "execute_result"
    }
   ],
   "source": [
    "cols=['prevailing_wage','prevailing_wage_z']\n",
    "ids=[2107,20575]\n",
    "visa_df[['prevailing_wage','prevailing_wage_z']].iloc[[2107,20575]]\n",
    "visa_df[cols].iloc[ids]"
   ]
  },
  {
   "cell_type": "code",
   "execution_count": null,
   "id": "7b3711da",
   "metadata": {},
   "outputs": [],
   "source": [
    "# generally in above prevailing wage and prevailing wage_z will overwrite the column values\n",
    "# becoz we want to clean our data before we apply ML model\n",
    "# if you create any extra columns make sure drop some of non required columns"
   ]
  },
  {
   "cell_type": "markdown",
   "id": "9ac4d34d",
   "metadata": {},
   "source": [
    "# package-Standard Scalar"
   ]
  },
  {
   "cell_type": "code",
   "execution_count": 21,
   "id": "718e02b5",
   "metadata": {},
   "outputs": [],
   "source": [
    "# read the package\n",
    "# save the package\n",
    "# apply fit trans\n",
    "from sklearn.preprocessing import StandardScaler\n",
    "ss=StandardScaler()\n",
    "ss.fit_transform(visa_df[['prevailing_wage']])\n",
    "visa_df['prevailing_wage_ss']=ss.fit_transform(visa_df[['prevailing_wage']])"
   ]
  },
  {
   "cell_type": "code",
   "execution_count": 22,
   "id": "5582d166",
   "metadata": {},
   "outputs": [
    {
     "data": {
      "text/html": [
       "<div>\n",
       "<style scoped>\n",
       "    .dataframe tbody tr th:only-of-type {\n",
       "        vertical-align: middle;\n",
       "    }\n",
       "\n",
       "    .dataframe tbody tr th {\n",
       "        vertical-align: top;\n",
       "    }\n",
       "\n",
       "    .dataframe thead th {\n",
       "        text-align: right;\n",
       "    }\n",
       "</style>\n",
       "<table border=\"1\" class=\"dataframe\">\n",
       "  <thead>\n",
       "    <tr style=\"text-align: right;\">\n",
       "      <th></th>\n",
       "      <th>prevailing_wage</th>\n",
       "      <th>prevailing_wage_z</th>\n",
       "      <th>prevailing_wage_ss</th>\n",
       "    </tr>\n",
       "  </thead>\n",
       "  <tbody>\n",
       "    <tr>\n",
       "      <th>0</th>\n",
       "      <td>592.2029</td>\n",
       "      <td>-1.398510</td>\n",
       "      <td>-1.398537</td>\n",
       "    </tr>\n",
       "    <tr>\n",
       "      <th>1</th>\n",
       "      <td>83425.6500</td>\n",
       "      <td>0.169832</td>\n",
       "      <td>0.169835</td>\n",
       "    </tr>\n",
       "    <tr>\n",
       "      <th>2</th>\n",
       "      <td>122996.8600</td>\n",
       "      <td>0.919060</td>\n",
       "      <td>0.919079</td>\n",
       "    </tr>\n",
       "    <tr>\n",
       "      <th>3</th>\n",
       "      <td>83434.0300</td>\n",
       "      <td>0.169991</td>\n",
       "      <td>0.169994</td>\n",
       "    </tr>\n",
       "    <tr>\n",
       "      <th>4</th>\n",
       "      <td>149907.3900</td>\n",
       "      <td>1.428576</td>\n",
       "      <td>1.428604</td>\n",
       "    </tr>\n",
       "    <tr>\n",
       "      <th>...</th>\n",
       "      <td>...</td>\n",
       "      <td>...</td>\n",
       "      <td>...</td>\n",
       "    </tr>\n",
       "    <tr>\n",
       "      <th>25475</th>\n",
       "      <td>77092.5700</td>\n",
       "      <td>0.049923</td>\n",
       "      <td>0.049924</td>\n",
       "    </tr>\n",
       "    <tr>\n",
       "      <th>25476</th>\n",
       "      <td>279174.7900</td>\n",
       "      <td>3.876083</td>\n",
       "      <td>3.876159</td>\n",
       "    </tr>\n",
       "    <tr>\n",
       "      <th>25477</th>\n",
       "      <td>146298.8500</td>\n",
       "      <td>1.360253</td>\n",
       "      <td>1.360280</td>\n",
       "    </tr>\n",
       "    <tr>\n",
       "      <th>25478</th>\n",
       "      <td>86154.7700</td>\n",
       "      <td>0.221504</td>\n",
       "      <td>0.221509</td>\n",
       "    </tr>\n",
       "    <tr>\n",
       "      <th>25479</th>\n",
       "      <td>70876.9100</td>\n",
       "      <td>-0.067762</td>\n",
       "      <td>-0.067763</td>\n",
       "    </tr>\n",
       "  </tbody>\n",
       "</table>\n",
       "<p>25480 rows × 3 columns</p>\n",
       "</div>"
      ],
      "text/plain": [
       "       prevailing_wage  prevailing_wage_z  prevailing_wage_ss\n",
       "0             592.2029          -1.398510           -1.398537\n",
       "1           83425.6500           0.169832            0.169835\n",
       "2          122996.8600           0.919060            0.919079\n",
       "3           83434.0300           0.169991            0.169994\n",
       "4          149907.3900           1.428576            1.428604\n",
       "...                ...                ...                 ...\n",
       "25475       77092.5700           0.049923            0.049924\n",
       "25476      279174.7900           3.876083            3.876159\n",
       "25477      146298.8500           1.360253            1.360280\n",
       "25478       86154.7700           0.221504            0.221509\n",
       "25479       70876.9100          -0.067762           -0.067763\n",
       "\n",
       "[25480 rows x 3 columns]"
      ]
     },
     "execution_count": 22,
     "metadata": {},
     "output_type": "execute_result"
    }
   ],
   "source": [
    "cols=['prevailing_wage','prevailing_wage_z','prevailing_wage_ss']\n",
    "visa_df[cols]"
   ]
  },
  {
   "cell_type": "markdown",
   "id": "1d24fb08",
   "metadata": {},
   "source": [
    "** Normalization **\n",
    "- min max scalar\n",
    "- x is data column\n",
    "- we need to calucalte x min and x max\n",
    "- nr=x-xmin\n",
    "- dr=xmax-xmin\n",
    "- nr/dr"
   ]
  },
  {
   "cell_type": "code",
   "execution_count": 15,
   "id": "ecb3b957",
   "metadata": {},
   "outputs": [
    {
     "data": {
      "text/html": [
       "<div>\n",
       "<style scoped>\n",
       "    .dataframe tbody tr th:only-of-type {\n",
       "        vertical-align: middle;\n",
       "    }\n",
       "\n",
       "    .dataframe tbody tr th {\n",
       "        vertical-align: top;\n",
       "    }\n",
       "\n",
       "    .dataframe thead th {\n",
       "        text-align: right;\n",
       "    }\n",
       "</style>\n",
       "<table border=\"1\" class=\"dataframe\">\n",
       "  <thead>\n",
       "    <tr style=\"text-align: right;\">\n",
       "      <th></th>\n",
       "      <th>case_id</th>\n",
       "      <th>continent</th>\n",
       "      <th>education_of_employee</th>\n",
       "      <th>has_job_experience</th>\n",
       "      <th>requires_job_training</th>\n",
       "      <th>no_of_employees</th>\n",
       "      <th>yr_of_estab</th>\n",
       "      <th>region_of_employment</th>\n",
       "      <th>prevailing_wage</th>\n",
       "      <th>unit_of_wage</th>\n",
       "      <th>full_time_position</th>\n",
       "      <th>case_status</th>\n",
       "    </tr>\n",
       "  </thead>\n",
       "  <tbody>\n",
       "    <tr>\n",
       "      <th>0</th>\n",
       "      <td>EZYV01</td>\n",
       "      <td>Asia</td>\n",
       "      <td>High School</td>\n",
       "      <td>N</td>\n",
       "      <td>N</td>\n",
       "      <td>14513</td>\n",
       "      <td>2007</td>\n",
       "      <td>West</td>\n",
       "      <td>592.2029</td>\n",
       "      <td>Hour</td>\n",
       "      <td>Y</td>\n",
       "      <td>Denied</td>\n",
       "    </tr>\n",
       "    <tr>\n",
       "      <th>1</th>\n",
       "      <td>EZYV02</td>\n",
       "      <td>Asia</td>\n",
       "      <td>Master's</td>\n",
       "      <td>Y</td>\n",
       "      <td>N</td>\n",
       "      <td>2412</td>\n",
       "      <td>2002</td>\n",
       "      <td>Northeast</td>\n",
       "      <td>83425.6500</td>\n",
       "      <td>Year</td>\n",
       "      <td>Y</td>\n",
       "      <td>Certified</td>\n",
       "    </tr>\n",
       "    <tr>\n",
       "      <th>2</th>\n",
       "      <td>EZYV03</td>\n",
       "      <td>Asia</td>\n",
       "      <td>Bachelor's</td>\n",
       "      <td>N</td>\n",
       "      <td>Y</td>\n",
       "      <td>44444</td>\n",
       "      <td>2008</td>\n",
       "      <td>West</td>\n",
       "      <td>122996.8600</td>\n",
       "      <td>Year</td>\n",
       "      <td>Y</td>\n",
       "      <td>Denied</td>\n",
       "    </tr>\n",
       "  </tbody>\n",
       "</table>\n",
       "</div>"
      ],
      "text/plain": [
       "  case_id continent education_of_employee has_job_experience  \\\n",
       "0  EZYV01      Asia           High School                  N   \n",
       "1  EZYV02      Asia              Master's                  Y   \n",
       "2  EZYV03      Asia            Bachelor's                  N   \n",
       "\n",
       "  requires_job_training  no_of_employees  yr_of_estab region_of_employment  \\\n",
       "0                     N            14513         2007                 West   \n",
       "1                     N             2412         2002            Northeast   \n",
       "2                     Y            44444         2008                 West   \n",
       "\n",
       "   prevailing_wage unit_of_wage full_time_position case_status  \n",
       "0         592.2029         Hour                  Y      Denied  \n",
       "1       83425.6500         Year                  Y   Certified  \n",
       "2      122996.8600         Year                  Y      Denied  "
      ]
     },
     "execution_count": 15,
     "metadata": {},
     "output_type": "execute_result"
    }
   ],
   "source": [
    "import pandas as pd                  # dataframe operations\n",
    "import numpy as np                   # math operations\n",
    "import matplotlib.pyplot as plt      # diagrams/plots\n",
    "import seaborn as sns                # diagrams / plots\n",
    "path=r\"C:\\Users\\vampa\\OneDrive\\Documents\\nareshIT-DATASCIENCE\\EDA\\Visadataset.csv\"\n",
    "visa_df=pd.read_csv(path)\n",
    "visa_df.head(3)"
   ]
  },
  {
   "cell_type": "code",
   "execution_count": null,
   "id": "cef33921",
   "metadata": {},
   "outputs": [],
   "source": [
    "# x-xmin/xmax-xmin\n",
    "# step :1: readthe pwage column\n",
    "# step 2: find the min value of the pwage column\n",
    "# step 3: find the max\n",
    "#step 4: nr= datacolumn-min value\n",
    "#step 5:dr= max vale- min value\n",
    "#step 6: nr/dr"
   ]
  },
  {
   "cell_type": "code",
   "execution_count": 27,
   "id": "a0f7b4c5",
   "metadata": {},
   "outputs": [],
   "source": [
    "pwage=visa_df['prevailing_wage']\n",
    "wage_max=visa_df['prevailing_wage'].max()\n",
    "wage_min=visa_df['prevailing_wage'].min()\n",
    "nr=pwage-wage_min\n",
    "dr=wage_max-wage_min\n",
    "visa_df['prevailing_wage_norm']=nr/dr\n"
   ]
  },
  {
   "cell_type": "code",
   "execution_count": 28,
   "id": "2a98c6e1",
   "metadata": {},
   "outputs": [
    {
     "data": {
      "text/plain": [
       "(0.0, 1.0)"
      ]
     },
     "execution_count": 28,
     "metadata": {},
     "output_type": "execute_result"
    }
   ],
   "source": [
    "visa_df['prevailing_wage_norm'].min(),visa_df['prevailing_wage_norm'].max()"
   ]
  },
  {
   "cell_type": "markdown",
   "id": "045448f5",
   "metadata": {},
   "source": [
    "$min-Max-Scalar$"
   ]
  },
  {
   "cell_type": "code",
   "execution_count": 31,
   "id": "dee17e2b",
   "metadata": {},
   "outputs": [],
   "source": [
    "from sklearn.preprocessing import MinMaxScaler\n",
    "mms=MinMaxScaler()\n",
    "visa_df['prevailing_wage_mms']=ss.fit_transform(visa_df[['prevailing_wage']])"
   ]
  }
 ],
 "metadata": {
  "kernelspec": {
   "display_name": "Python 3 (ipykernel)",
   "language": "python",
   "name": "python3"
  },
  "language_info": {
   "codemirror_mode": {
    "name": "ipython",
    "version": 3
   },
   "file_extension": ".py",
   "mimetype": "text/x-python",
   "name": "python",
   "nbconvert_exporter": "python",
   "pygments_lexer": "ipython3",
   "version": "3.11.5"
  }
 },
 "nbformat": 4,
 "nbformat_minor": 5
}
